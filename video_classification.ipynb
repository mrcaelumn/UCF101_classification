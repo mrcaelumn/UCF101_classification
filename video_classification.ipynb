{
 "cells": [
  {
   "cell_type": "code",
   "execution_count": 1,
   "id": "70cdecc3-97b5-4ac6-b204-1400022582e0",
   "metadata": {},
   "outputs": [
    {
     "name": "stdout",
     "output_type": "stream",
     "text": [
      "TensorFlow version:  2.6.2\n"
     ]
    }
   ],
   "source": [
    "import tensorflow as tf\n",
    "import numpy as np\n",
    "import os\n",
    "import csv\n",
    "\n",
    "from collections import deque\n",
    "import sys\n",
    "\n",
    "from sklearn.metrics import confusion_matrix, classification_report, roc_curve, \\\n",
    "auc, accuracy_score, precision_score, recall_score, f1_score\n",
    "\n",
    "from packaging import version\n",
    "from matplotlib import pyplot as plt\n",
    "\n",
    "print(\"TensorFlow version: \", tf.__version__)\n",
    "assert version.parse(tf.__version__).release[0] >= 2, \\\n",
    "    \"This notebook requires TensorFlow 2.0 or above.\"\n",
    "\n",
    "\"\"\" Set Hyper parameters \"\"\"\n",
    "NUM_EPOCHS = 150\n",
    "CHOOSEN_MODEL = 1 # 1 == resnet18, 2 == custom_our_model, 3 == VGG\n",
    "IMG_H = 42\n",
    "IMG_W = 110\n",
    "IMG_C = 3  ## Change this to 1 for grayscale.\n",
    "COLOUR_MODE = \"rgb\"\n",
    "BATCH_SIZE = 32\n",
    "\n",
    "# set dir of files\n",
    "TRAIN_DATASET_PATH = \"image_dataset_final_grayscale_clahe/training_dataset/\"\n",
    "TEST_DATASET_PATH = \"image_dataset_final_grayscale_clahe/clahe_evaluation_dataset/\"\n",
    "SAVED_MODEL_PATH = \"saved_model/\"\n",
    "\n",
    "AUTOTUNE = tf.data.AUTOTUNE\n",
    "AUGMENTATION = False\n",
    "TRAIN_MODE = True"
   ]
  },
  {
   "cell_type": "code",
   "execution_count": 2,
   "id": "acb14e04-369b-47ff-957d-418ade750d9a",
   "metadata": {},
   "outputs": [],
   "source": [
    "class ResearchModels():\n",
    "    def __init__(self, nb_classes, model, seq_length,\n",
    "                 saved_model=None, features_length=2048):\n",
    "        \"\"\"\n",
    "        `model` = lstm (only one for this case)\n",
    "        `nb_classes` = the number of classes to predict\n",
    "        `seq_length` = the length of our video sequences\n",
    "        `saved_model` = the path to a saved Keras model to load\n",
    "        \"\"\"\n",
    "\n",
    "        # Set defaults.\n",
    "        self.seq_length = seq_length\n",
    "        self.load_model = load_model\n",
    "        self.saved_model = saved_model\n",
    "        self.nb_classes = nb_classes\n",
    "        self.feature_queue = deque()\n",
    "\n",
    "        # Set the metrics. Only use top k if there's a need.\n",
    "        metrics = ['accuracy']\n",
    "        if self.nb_classes >= 10:\n",
    "            metrics.append('top_k_categorical_accuracy')\n",
    "\n",
    "        # Get the appropriate model.\n",
    "        if self.saved_model is not None:\n",
    "            print(\"Loading model %s\" % self.saved_model)\n",
    "            self.model = load_model(self.saved_model)\n",
    "        elif model == 'lstm':\n",
    "            print(\"Loading LSTM model.\")\n",
    "            self.input_shape = (seq_length, features_length)\n",
    "            self.model = self.lstm()\n",
    "        else:\n",
    "            print(\"Unknown network.\")\n",
    "            sys.exit()\n",
    "\n",
    "        # Now compile the network.\n",
    "        optimizer = tf.keras.optimizers.Adam(lr=1e-5, decay=1e-6)\n",
    "        self.model.compile(loss='categorical_crossentropy', optimizer=optimizer,\n",
    "                           metrics=metrics)\n",
    "\n",
    "        print(self.model.summary())\n",
    "\n",
    "    def lstm(self):\n",
    "        \"\"\"Build a simple LSTM network. We pass the extracted features from\n",
    "        our CNN to this model predomenently.\"\"\"\n",
    "        # Model.\n",
    "        model = tf.keras.models.Sequential()\n",
    "        model.add(tf.keras.layers.recurrent.LSTM(2048, return_sequences=False,\n",
    "                       input_shape=self.input_shape,\n",
    "                       dropout=0.5))\n",
    "        model.add(tf.keras.layers.Dense(512, activation='relu'))\n",
    "        model.add(tf.keras.layers.Dropout(0.5))\n",
    "        model.add(tf.keras.layers.Dense(self.nb_classes, activation='softmax'))\n",
    "\n",
    "        return model"
   ]
  },
  {
   "cell_type": "code",
   "execution_count": null,
   "id": "aa68df27-af3c-4232-9e13-0bf4f4205f7f",
   "metadata": {},
   "outputs": [],
   "source": []
  }
 ],
 "metadata": {
  "kernelspec": {
   "display_name": "Python 3 (ipykernel)",
   "language": "python",
   "name": "python3"
  },
  "language_info": {
   "codemirror_mode": {
    "name": "ipython",
    "version": 3
   },
   "file_extension": ".py",
   "mimetype": "text/x-python",
   "name": "python",
   "nbconvert_exporter": "python",
   "pygments_lexer": "ipython3",
   "version": "3.9.9"
  }
 },
 "nbformat": 4,
 "nbformat_minor": 5
}
