{
 "cells": [
  {
   "cell_type": "code",
   "execution_count": null,
   "id": "d84f11d9-d125-47af-b713-95991b1b1888",
   "metadata": {},
   "outputs": [],
   "source": [
    "from imutils import paths\n",
    "from tqdm import tqdm\n",
    "import pandas as pd \n",
    "import numpy as np\n",
    "import shutil\n",
    "import cv2\n",
    "import os\n",
    "\n",
    "\n",
    "TRAIN_DATASET_PATH = \"ucfTrainTestlist/trainlist03.txt\"\n",
    "TEST_DATASET_PATH = \"ucfTrainTestlist/testlist03.txt\""
   ]
  },
  {
   "cell_type": "code",
   "execution_count": null,
   "id": "893d5ae8-9111-4705-bdd7-5d474fbf3276",
   "metadata": {},
   "outputs": [],
   "source": [
    "# Open the .txt file which have names of training videos\n",
    "f = open(TRAIN_DATASET_PATH, \"r\")\n",
    "temp = f.read()\n",
    "videos = temp.split('\\n')\n",
    "\n",
    "# Create a dataframe having video names\n",
    "train = pd.DataFrame()\n",
    "train['video_name'] = videos\n",
    "train = train[:-1]\n",
    "train.head()"
   ]
  },
  {
   "cell_type": "code",
   "execution_count": null,
   "id": "c05e4603-8657-4bda-82ee-aeb2e8e8eb16",
   "metadata": {},
   "outputs": [],
   "source": [
    "# Open the .txt file which have names of test videos\n",
    "with open(TEST_DATASET_PATH, \"r\") as f:\n",
    "    temp = f.read()\n",
    "videos = temp.split(\"\\n\")\n",
    "\n",
    "# Create a dataframe having video names\n",
    "test = pd.DataFrame()\n",
    "test[\"video_name\"] = videos\n",
    "test = test[:-1]\n",
    "test.head()"
   ]
  },
  {
   "cell_type": "code",
   "execution_count": null,
   "id": "3510f852-5d92-486a-ad86-bafbafa60657",
   "metadata": {},
   "outputs": [],
   "source": [
    "def extract_tag(video_path):\n",
    "    return video_path.split(\"/\")[0]\n",
    "\n",
    "def separate_video_name(video_name):\n",
    "    return video_name.split(\"/\")[1]\n",
    "\n",
    "def rectify_video_name(video_name):\n",
    "    return video_name.split(\" \")[0]\n",
    "\n",
    "def move_videos(df, output_dir):\n",
    "    if not os.path.exists(output_dir):\n",
    "        os.mkdir(output_dir)\n",
    "    for i in tqdm(range(df.shape[0])):\n",
    "        videoFile = df['video_name'][i].split(\"/\")[-1]\n",
    "        videoPath = os.path.join(\"data\", videoFile)\n",
    "        shutil.copy2(videoPath, output_dir)\n",
    "    print()\n",
    "    print(f\"Total videos: {len(os.listdir(output_dir))}\")"
   ]
  },
  {
   "cell_type": "code",
   "execution_count": null,
   "id": "9fea2352-d063-4fba-977e-59a7d9f644ec",
   "metadata": {},
   "outputs": [],
   "source": [
    "train[\"tag\"] = train[\"video_name\"].apply(extract_tag)\n",
    "train[\"video_name\"] = train[\"video_name\"].apply(separate_video_name)\n",
    "train.head()"
   ]
  },
  {
   "cell_type": "code",
   "execution_count": null,
   "id": "bb3f1630-9bf8-436f-aff3-42fc14ac795d",
   "metadata": {},
   "outputs": [],
   "source": [
    "train[\"video_name\"] = train[\"video_name\"].apply(rectify_video_name)\n",
    "train.head()"
   ]
  },
  {
   "cell_type": "code",
   "execution_count": null,
   "id": "fd9a3173-fa80-4236-804e-55676ac752e7",
   "metadata": {},
   "outputs": [],
   "source": [
    "test[\"tag\"] = test[\"video_name\"].apply(extract_tag)\n",
    "test[\"video_name\"] = test[\"video_name\"].apply(separate_video_name)\n",
    "test.head()"
   ]
  },
  {
   "cell_type": "code",
   "execution_count": null,
   "id": "f3bbaef3-2e33-48ae-a952-fd98a0928d61",
   "metadata": {},
   "outputs": [],
   "source": [
    "n = 101\n",
    "topNActs = train[\"tag\"].value_counts().nlargest(n).reset_index()[\"index\"].tolist()\n",
    "train_new = train[train[\"tag\"].isin(topNActs)]\n",
    "test_new = test[test[\"tag\"].isin(topNActs)]\n",
    "train_new.shape, test_new.shape"
   ]
  },
  {
   "cell_type": "code",
   "execution_count": null,
   "id": "c6652f99-8e47-4203-85bb-b880ebee2f32",
   "metadata": {},
   "outputs": [],
   "source": [
    "train_new = train_new.reset_index(drop=True)\n",
    "test_new = test_new.reset_index(drop=True)"
   ]
  },
  {
   "cell_type": "code",
   "execution_count": null,
   "id": "f8d1c01d-9d33-4576-81f2-f9c267ed7dae",
   "metadata": {},
   "outputs": [],
   "source": [
    "train_new.to_csv(\"train03.csv\", index=False)\n",
    "test_new.to_csv(\"test03.csv\", index=False)"
   ]
  },
  {
   "cell_type": "code",
   "execution_count": null,
   "id": "671bdc63-1a71-4b72-8cea-adcf2eb268c8",
   "metadata": {},
   "outputs": [],
   "source": []
  }
 ],
 "metadata": {
  "kernelspec": {
   "display_name": "Python 3 (ipykernel)",
   "language": "python",
   "name": "python3"
  },
  "language_info": {
   "codemirror_mode": {
    "name": "ipython",
    "version": 3
   },
   "file_extension": ".py",
   "mimetype": "text/x-python",
   "name": "python",
   "nbconvert_exporter": "python",
   "pygments_lexer": "ipython3",
   "version": "3.9.9"
  }
 },
 "nbformat": 4,
 "nbformat_minor": 5
}
