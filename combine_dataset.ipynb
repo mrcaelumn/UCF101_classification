{
 "cells": [
  {
   "cell_type": "code",
   "execution_count": null,
   "id": "ebc0ab8e-1992-4258-bbe5-96f7d80506e8",
   "metadata": {},
   "outputs": [],
   "source": [
    "import os\n",
    "import glob\n",
    "import pandas as pd"
   ]
  },
  {
   "cell_type": "code",
   "execution_count": null,
   "id": "04d77a88-2259-41cd-8a1d-0a9395ebcb70",
   "metadata": {},
   "outputs": [],
   "source": [
    "all_filenames_train = [\"train01.csv\", \"train02.csv\", \"train03.csv\"]\n",
    "all_filenames_test = [\"test01.csv\", \"test02.csv\", \"test03.csv\"]"
   ]
  },
  {
   "cell_type": "code",
   "execution_count": null,
   "id": "e368c269-405d-45c8-a148-6851d710fb88",
   "metadata": {},
   "outputs": [],
   "source": [
    "#combine all files in the list\n",
    "combined_csv_train = pd.concat([pd.read_csv(f) for f in all_filenames_train ])\n",
    "combined_csv_train.to_csv( \"combined_csv_train.csv\", index=False, encoding='utf-8')"
   ]
  },
  {
   "cell_type": "code",
   "execution_count": null,
   "id": "cc4c817f-3cd0-44df-a40a-4ffbfa4f16a1",
   "metadata": {},
   "outputs": [],
   "source": [
    "#combine all files in the list\n",
    "combined_csv_test = pd.concat([pd.read_csv(f) for f in all_filenames_test ])\n",
    "combined_csv_test.to_csv( \"combined_csv_test.csv\", index=False, encoding='utf-8')"
   ]
  },
  {
   "cell_type": "code",
   "execution_count": null,
   "id": "1e75ade7-a3fa-4988-b60f-fae749bc595e",
   "metadata": {},
   "outputs": [],
   "source": []
  }
 ],
 "metadata": {
  "kernelspec": {
   "display_name": "Python 3 (ipykernel)",
   "language": "python",
   "name": "python3"
  },
  "language_info": {
   "codemirror_mode": {
    "name": "ipython",
    "version": 3
   },
   "file_extension": ".py",
   "mimetype": "text/x-python",
   "name": "python",
   "nbconvert_exporter": "python",
   "pygments_lexer": "ipython3",
   "version": "3.9.9"
  }
 },
 "nbformat": 4,
 "nbformat_minor": 5
}
